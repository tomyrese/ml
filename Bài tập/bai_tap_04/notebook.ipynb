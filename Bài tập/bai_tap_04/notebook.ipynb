{
 "cells": [
  {
   "cell_type": "markdown",
   "id": "d57cd624",
   "metadata": {},
   "source": [
    "## Hướng dẫn làm bài:\n",
    "1. Sử dụng Pipeline để train mô hình\n",
    "2. Lưu mô hình sau khi train và các thông tin mô tả vào file model.pkl\n",
    "3. Nộp file .ipynb lên LMS, không cần nén\n",
    "4. Copy file model.pkl vào thư mục T:\\trained\\"
   ]
  },
  {
   "cell_type": "code",
   "execution_count": null,
   "id": "a9757b9a",
   "metadata": {},
   "outputs": [],
   "source": [
    "# Khai báo thông tin sinh viên\n",
    "Lop = \"DHDTMT18A\"\n",
    "Nhom = \"3\"\n",
    "MSSV = \"22659651\"\n",
    "HoTen = \"Nguyen Phu Quy\"\n",
    "SoMay = 20"
   ]
  },
  {
   "cell_type": "code",
   "execution_count": 20,
   "id": "d976b43d",
   "metadata": {},
   "outputs": [
    {
     "name": "stdout",
     "output_type": "stream",
     "text": [
      "Confusion Matrix:\n",
      " [[3415   47]\n",
      " [ 360 3418]]\n",
      "\n",
      "Classification Report:\n",
      "               precision    recall  f1-score   support\n",
      "\n",
      "       Dwarf       0.90      0.99      0.94      3462\n",
      "       Giant       0.99      0.90      0.94      3778\n",
      "\n",
      "    accuracy                           0.94      7240\n",
      "   macro avg       0.95      0.95      0.94      7240\n",
      "weighted avg       0.95      0.94      0.94      7240\n",
      "\n",
      "Cross-validated F1 scores: [0.94861234 0.9432115  0.95427731 0.95068605 0.94085363]\n",
      "Mean F1 score: 0.9475281648166043\n"
     ]
    },
    {
     "data": {
      "text/plain": [
       "['model.pkl']"
      ]
     },
     "execution_count": 20,
     "metadata": {},
     "output_type": "execute_result"
    }
   ],
   "source": [
    "import pandas as pd\n",
    "import numpy as np\n",
    "from sklearn.model_selection import train_test_split, cross_val_score\n",
    "from sklearn.preprocessing import StandardScaler, LabelEncoder\n",
    "from sklearn.metrics import classification_report, confusion_matrix\n",
    "from sklearn.impute import SimpleImputer\n",
    "from imblearn.over_sampling import SMOTE\n",
    "from imblearn.pipeline import Pipeline as ImbPipeline\n",
    "from lightgbm import LGBMClassifier\n",
    "import joblib\n",
    "import warnings\n",
    "\n",
    "warnings.filterwarnings(\"ignore\")\n",
    "\n",
    "df = pd.read_csv(\"dataset_train.csv\")\n",
    "df[['Vmag', 'Plx', 'B-V']] = df[['Vmag', 'Plx', 'B-V']].apply(pd.to_numeric, errors='coerce')\n",
    "df = df.dropna(subset=['Vmag', 'Plx', 'B-V', 'SpType'])\n",
    "df = df[df['Plx'] > 0]\n",
    "df['AbsMag'] = df['Vmag'] + 5 * np.log10(df['Plx'] / 1000) + 5\n",
    "df = df.replace([np.inf, -np.inf], np.nan).dropna(subset=['AbsMag', 'B-V'])\n",
    "df['ColorIndex'] = df['Vmag'] - df['B-V']\n",
    "df['BV_squared'] = df['B-V'] ** 2\n",
    "df['AbsMag_log'] = df['AbsMag'].apply(lambda x: np.log1p(x) if x > -1 else np.nan)\n",
    "df['SpectralClass'] = df['SpType'].str.extract(r'([OBAFGKM])')\n",
    "df['LuminosityClass'] = df['SpType'].str.extract(r'(Ia|Ib|II|III|IV|V)')\n",
    "df = df.dropna(subset=['SpectralClass', 'LuminosityClass'])\n",
    "le_spectral = LabelEncoder()\n",
    "le_luminosity = LabelEncoder()\n",
    "df['SpectralClass_enc'] = le_spectral.fit_transform(df['SpectralClass'])\n",
    "df['LuminosityClass_enc'] = le_luminosity.fit_transform(df['LuminosityClass'])\n",
    "\n",
    "def classify_star_type(sptype):\n",
    "    sptype = str(sptype)\n",
    "    if any(x in sptype for x in ['III', 'Ia', 'I']):\n",
    "        return 'Giant'\n",
    "    elif any(x in sptype for x in ['V', 'IV']):\n",
    "        return 'Dwarf'\n",
    "    return 'Unknown'\n",
    "\n",
    "df['Star type'] = df['SpType'].apply(classify_star_type)\n",
    "df = df[df['Star type'] != 'Unknown']\n",
    "features = ['AbsMag', 'B-V', 'ColorIndex', 'BV_squared', 'AbsMag_log', 'SpectralClass_enc', 'LuminosityClass_enc']\n",
    "df = df.dropna(subset=features)\n",
    "X = df[features]\n",
    "y = df['Star type']\n",
    "X_train, X_test, y_train, y_test = train_test_split(X, y, test_size=0.2, random_state=42)\n",
    "\n",
    "pipeline = ImbPipeline([\n",
    "    ('imputer', SimpleImputer(strategy='mean')),\n",
    "    ('smote', SMOTE(random_state=42)),\n",
    "    ('scaler', StandardScaler()),\n",
    "    ('classifier', LGBMClassifier(\n",
    "        n_estimators=100,\n",
    "        max_depth=3,\n",
    "        learning_rate=0.002,\n",
    "        class_weight='balanced',\n",
    "        reg_alpha=2.0,\n",
    "        reg_lambda=2.0,\n",
    "        colsample_bytree=0.3,\n",
    "        verbosity=-1,\n",
    "        random_state=42\n",
    "    ))\n",
    "])\n",
    "\n",
    "pipeline.fit(X_train, y_train)\n",
    "y_pred = pipeline.predict(X_test)\n",
    "print(\"Confusion Matrix:\\n\", confusion_matrix(y_test, y_pred))\n",
    "print(\"\\nClassification Report:\\n\", classification_report(y_test, y_pred))\n",
    "cv_scores = cross_val_score(pipeline, X, y, cv=5, scoring='f1_weighted')\n",
    "print(\"Cross-validated F1 scores:\", cv_scores)\n",
    "print(\"Mean F1 score:\", cv_scores.mean())\n",
    "\n",
    "model_info = {\n",
    "    'model': pipeline,\n",
    "    'features': features,\n",
    "    'classes': pipeline.named_steps['classifier'].classes_.tolist()\n",
    "}\n",
    "joblib.dump(model_info, 'model.pkl')"
   ]
  }
 ],
 "metadata": {
  "kernelspec": {
   "display_name": "Python 3",
   "language": "python",
   "name": "python3"
  },
  "language_info": {
   "codemirror_mode": {
    "name": "ipython",
    "version": 3
   },
   "file_extension": ".py",
   "mimetype": "text/x-python",
   "name": "python",
   "nbconvert_exporter": "python",
   "pygments_lexer": "ipython3",
   "version": "3.12.2"
  }
 },
 "nbformat": 4,
 "nbformat_minor": 5
}
