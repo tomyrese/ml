{
 "cells": [
  {
   "cell_type": "markdown",
   "id": "f679fd67-568e-4806-975d-eddaa403c5d5",
   "metadata": {},
   "source": [
    "## About Dataset\n",
    "\n",
    "This refined dataset is originally based on the \"Diabetes Dataset\" uploaded by Ahlam Rashid in Mendeley Data. The link to the original dataset is: https://data.mendeley.com/datasets/wj9rwkp9c2/1. The original dataset contains a total of 1000 subjects divided into three classes: diabetic, non-diabetic, and predict-diabetic.\n",
    "\n",
    "Among the 1000 subjects, 844 are diabetic, 103 are non-diabetic, and 53 are predict-diabetic, resulting in an extreme class imbalance. We found a total of 174 duplicate subjects in the original dataset, which we subsequently removed. After removing the duplicate subjects, there were 690 diabetic, 96 non-diabetic, and 40 predict-diabetic subjects remaining.\n",
    "\n",
    "<img src=\"./table.bmp\">"
   ]
  },
  {
   "cell_type": "markdown",
   "id": "09487987-6ecc-4461-9642-1fb4d9f8312e",
   "metadata": {},
   "source": [
    "## Intructions\n",
    "\n",
    "### Note: \n",
    "1. Use clf as the variable name of the classifier\n",
    "2. Don't remove/delete any cells\n",
    "3. Remove/delete line \"NotImplementedError\"  \n"
   ]
  },
  {
   "cell_type": "code",
   "execution_count": 7,
   "id": "96257cd5-fb24-46ab-a370-9c63c930e9b6",
   "metadata": {
    "deletable": false,
    "nbgrader": {
     "cell_type": "code",
     "checksum": "fc520f01e8f5903a24d347b8df3b46f0",
     "grade": false,
     "grade_id": "cell-fb8e4719813e30a8",
     "locked": false,
     "schema_version": 3,
     "solution": true,
     "task": false
    }
   },
   "outputs": [
    {
     "name": "stdout",
     "output_type": "stream",
     "text": [
      "Columns in dataset: ['Gender', 'AGE', 'Urea', 'Cr', 'HbA1c', 'Chol', 'TG', 'HDL', 'LDL', 'VLDL', 'BMI', 'Class']\n",
      "Class distribution:\n",
      " Class\n",
      "2    102\n",
      "0     77\n",
      "1     32\n",
      "Name: count, dtype: int64\n",
      "Classification Report:\n",
      "                   precision    recall  f1-score   support\n",
      "\n",
      "    non-diabetic       0.94      1.00      0.97        16\n",
      "predict-diabetic       1.00      1.00      1.00         6\n",
      "        diabetic       1.00      0.95      0.98        21\n",
      "\n",
      "        accuracy                           0.98        43\n",
      "       macro avg       0.98      0.98      0.98        43\n",
      "    weighted avg       0.98      0.98      0.98        43\n",
      "\n",
      "Confusion Matrix:\n",
      " [[16  0  0]\n",
      " [ 0  6  0]\n",
      " [ 1  0 20]]\n"
     ]
    }
   ],
   "source": [
    "import pandas as pd\n",
    "import matplotlib.pyplot as plt\n",
    "import seaborn as sns\n",
    "from sklearn.model_selection import train_test_split\n",
    "from sklearn.preprocessing import StandardScaler\n",
    "from sklearn.ensemble import RandomForestClassifier\n",
    "from sklearn.metrics import classification_report, confusion_matrix\n",
    "\n",
    "df = pd.read_csv(\"train_multiclass_diabetes.csv\")\n",
    "\n",
    "print(\"Columns in dataset:\", df.columns.tolist())\n",
    "print(\"Class distribution:\\n\", df['Class'].value_counts())\n",
    "\n",
    "X = df.drop(columns=['Class'])\n",
    "y = df['Class']\n",
    "scaler = StandardScaler()\n",
    "X_scaled = scaler.fit_transform(X)\n",
    "\n",
    "X_train, X_test, y_train, y_test = train_test_split(X_scaled, y, stratify=y, test_size=0.2, random_state=60)\n",
    "\n",
    "clf = RandomForestClassifier(random_state=42)\n",
    "clf.fit(X_train, y_train)\n",
    "\n",
    "y_pred = clf.predict(X_test)\n",
    "\n",
    "target_names = ['non-diabetic', 'predict-diabetic', 'diabetic']\n",
    "print(\"Classification Report:\\n\", classification_report(y_test, y_pred, target_names=target_names))\n",
    "\n",
    "cm = confusion_matrix(y_test, y_pred)\n",
    "print(\"Confusion Matrix:\\n\", cm)"
   ]
  },
  {
   "cell_type": "code",
   "execution_count": null,
   "id": "e301cf34-20ed-4d31-858b-3a47a8997a9f",
   "metadata": {
    "deletable": false,
    "editable": false,
    "nbgrader": {
     "cell_type": "code",
     "checksum": "e8dd21078048d2ea3307851323995f33",
     "grade": true,
     "grade_id": "cell-69063aa06642c9c4",
     "locked": true,
     "points": 0,
     "schema_version": 3,
     "solution": false,
     "task": false
    }
   },
   "outputs": [],
   "source": []
  },
  {
   "cell_type": "code",
   "execution_count": null,
   "id": "9b59fcfa-429a-43e7-bcb2-754e936a3676",
   "metadata": {
    "deletable": false,
    "editable": false,
    "nbgrader": {
     "cell_type": "code",
     "checksum": "5871e792df0e521d4d0ad7a20cef3d59",
     "grade": true,
     "grade_id": "cell-ae3355dd29f57be9",
     "locked": true,
     "points": 10,
     "schema_version": 3,
     "solution": false,
     "task": false
    }
   },
   "outputs": [],
   "source": []
  }
 ],
 "metadata": {
  "kernelspec": {
   "display_name": "Python 3 (ipykernel)",
   "language": "python",
   "name": "python3"
  },
  "language_info": {
   "codemirror_mode": {
    "name": "ipython",
    "version": 3
   },
   "file_extension": ".py",
   "mimetype": "text/x-python",
   "name": "python",
   "nbconvert_exporter": "python",
   "pygments_lexer": "ipython3",
   "version": "3.12.2"
  }
 },
 "nbformat": 4,
 "nbformat_minor": 5
}
