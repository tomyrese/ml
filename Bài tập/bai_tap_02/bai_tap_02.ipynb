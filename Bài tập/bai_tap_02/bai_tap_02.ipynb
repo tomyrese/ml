{
 "cells": [
  {
   "cell_type": "markdown",
   "id": "7e45ad23-98bc-4deb-a33e-32e9a419afc0",
   "metadata": {},
   "source": [
    "# Regression Models on Student Performance & Ice Cream Sales\n",
    " \n",
    " This notebook demonstrates how to build and evaluate regression models using **scikit-learn**:\n",
    " - **Part A**: Linear Regression on Student Performance dataset\n",
    " - **Part B**: Polynomial Regression on Ice Cream Sales dataset\n",
    "\n",
    " We will use appropriate evaluation metrics for each model:\n",
    " - Student Performance → MAE (Mean Absolute Error) + R²\n",
    " - Ice Cream Sales → RMSE (Root Mean Squared Error) + R²"
   ]
  },
  {
   "cell_type": "code",
   "execution_count": 20,
   "id": "27722811-1409-421d-adc6-22b47611c307",
   "metadata": {},
   "outputs": [],
   "source": [
    "import pandas as pd  # For data handling\n",
    "import numpy as np  # For numerical operations\n",
    "from sklearn.model_selection import train_test_split  # For splitting dataset into train and test\n",
    "from sklearn.linear_model import LinearRegression  # For linear regression model\n",
    "from sklearn.preprocessing import PolynomialFeatures, LabelEncoder  # For polynomial regression & encoding categorical variables\n",
    "from sklearn.pipeline import make_pipeline  # To chain preprocessing + model together\n",
    "from sklearn.metrics import mean_squared_error, mean_absolute_error, r2_score  # For regression evaluation metrics\n",
    "import matplotlib.pyplot as plt  # For plotting results"
   ]
  },
  {
   "cell_type": "markdown",
   "id": "bd21b066-bba1-4f1a-b03f-048d2297b7a5",
   "metadata": {},
   "source": [
    "## Part A: Linear Regression on Student Performance\n",
    " The goal is to predict a student's **Performance Index** based on study-related features.\n",
    " We will evaluate the model using:\n",
    " - **MAE**: Average prediction error in exam points.\n",
    " - **R²**: Variance explained by the model."
   ]
  },
  {
   "cell_type": "code",
   "execution_count": null,
   "id": "7f192c6a-e77d-4368-81d0-5e0a7694e74f",
   "metadata": {
    "deletable": false,
    "nbgrader": {
     "cell_type": "code",
     "checksum": "a4e710c92dac2a0a73d8403fb9db1c48",
     "grade": false,
     "grade_id": "cell-c104bde6e75d91df",
     "locked": false,
     "schema_version": 3,
     "solution": true,
     "task": false
    }
   },
   "outputs": [],
   "source": [
    "# YOUR CODE HERE\n",
    "raise NotImplementedError()\n",
    "\n",
    "# Load dataset into a pandas DataFrame\n",
    "# student_df = \n",
    "\n",
    "# Encode categorical column 'Extracurricular Activities' into numeric values (Yes/No → 1/0)\n",
    "# le = \n",
    "# student_df[\"Extracurricular Activities\"] = \n",
    "\n",
    "# Separate features (X) and target (y)\n",
    "# X_student =   # All columns except target\n",
    "# y_student = # Target column\n",
    "\n",
    "# Split dataset into training (80%) and testing (20%)\n",
    "# X_train, X_test, y_train, y_test = \n",
    "\n",
    "# Initialize linear regression model\n",
    "# lin_reg = \n",
    "\n",
    "# Train the model using training data\n",
    "\n",
    "# Make predictions on test data\n",
    "# y_pred = \n",
    "\n",
    "# Evaluate model with MAE (average error in exam points)\n",
    "# mae_student = \n",
    "\n",
    "# Evaluate model with R^2 (variance explained)\n",
    "# r2_student = r2_score(y_test, y_pred) \n",
    "\n",
    "# Print evaluation results\n",
    "print(\"Student Performance Model:\")\n",
    "print(\"MAE (average error in exam points):\", mae_student)\n",
    "print(\"R^2 (variance explained):\", r2_student)"
   ]
  },
  {
   "cell_type": "code",
   "execution_count": 41,
   "id": "841ad19e-649f-4cb2-a409-0863a42fbe23",
   "metadata": {
    "deletable": false,
    "editable": false,
    "nbgrader": {
     "cell_type": "code",
     "checksum": "5ba9c161e61e265385bbb7bf0b508f7d",
     "grade": true,
     "grade_id": "cell-8244c56a26cebf32",
     "locked": true,
     "points": 5,
     "schema_version": 3,
     "solution": false,
     "task": false
    }
   },
   "outputs": [
    {
     "name": "stdout",
     "output_type": "stream",
     "text": [
      "Student Performance Model:\n",
      "MAE (average error in exam points): 1.5786035338005096\n",
      "R^2 (variance explained): 0.9889498878707359\n"
     ]
    }
   ],
   "source": [
    "# Load dataset into a pandas DataFrame\n",
    "student_df = pd.read_csv(\"student_performance.csv\")  # Replace with your actual file path\n",
    "\n",
    "# Encode categorical column 'Extracurricular Activities' into numeric values (Yes/No → 1/0)\n",
    "le = LabelEncoder()\n",
    "student_df[\"Extracurricular Activities\"] = le.fit_transform(student_df[\"Extracurricular Activities\"])\n",
    "\n",
    "# Separate features (X) and target (y)\n",
    "X_student = student_df.drop(\"Performance Index\", axis=1)\n",
    "y_student = student_df[\"Performance Index\"]\n",
    "\n",
    "# Split dataset into training (80%) and testing (20%)\n",
    "X_train, X_test, y_train, y_test = train_test_split(X_student, y_student, test_size=0.2, random_state=120)\n",
    "\n",
    "# Initialize linear regression model\n",
    "lin_reg = LinearRegression()\n",
    "\n",
    "# Train the model using training data\n",
    "lin_reg.fit(X_train, y_train)\n",
    "\n",
    "# Make predictions on test data\n",
    "y_pred = lin_reg.predict(X_test)\n",
    "\n",
    "# Evaluate model with MAE (average error in exam points)\n",
    "mae_student = mean_absolute_error(y_test, y_pred)\n",
    "\n",
    "# Evaluate model with R^2 (variance explained)\n",
    "r2_student = r2_score(y_test, y_pred)\n",
    "\n",
    "# Print evaluation results\n",
    "print(\"Student Performance Model:\")\n",
    "print(\"MAE (average error in exam points):\", mae_student)\n",
    "print(\"R^2 (variance explained):\", r2_student)"
   ]
  },
  {
   "cell_type": "markdown",
   "id": "74a34184-1166-47a5-887d-e6a1b5903803",
   "metadata": {},
   "source": [
    "## Part B: Polynomial Regression on Ice Cream Sales\n",
    " The goal is to predict **Ice Cream Sales** from **Temperature (°C)**.\n",
    " Polynomial regression is used since the relationship is nonlinear.\n",
    " We evaluate using:\n",
    " - **RMSE**: Typical prediction error, penalizing large mistakes.\n",
    " - **R²**: Variance explained by the model."
   ]
  },
  {
   "cell_type": "code",
   "execution_count": null,
   "id": "f53968d7-886e-4e39-bb87-cf74babce673",
   "metadata": {
    "deletable": false,
    "nbgrader": {
     "cell_type": "code",
     "checksum": "7676a68813b2c4607ac5c6ce332662fc",
     "grade": false,
     "grade_id": "cell-255326f9de87e05f",
     "locked": false,
     "schema_version": 3,
     "solution": true,
     "task": false
    }
   },
   "outputs": [],
   "source": [
    "# YOUR CODE HERE\n",
    "raise NotImplementedError()\n",
    "# Load dataset into a pandas DataFrame\n",
    "# icecream_df = \n",
    "\n",
    "# Define feature (temperature) and target (ice cream sales)\n",
    "# X_ice =   # Double brackets keep it as DataFrame\n",
    "# y_ice = \n",
    "\n",
    "# Split dataset into training (80%) and testing (20%)\n",
    "# X_train, X_test, y_train, y_test = \n",
    "\n",
    "# Create a polynomial regression model pipeline (degree=2)\n",
    "# Step 1: Transform input into polynomial features\n",
    "# Step 2: Apply linear regression on the transformed features\n",
    "# poly_model = make_pipeline(PolynomialFeatures(degree=2), LinearRegression())\n",
    "\n",
    "# Train polynomial regression model on training data\n",
    "\n",
    "# Make predictions on test data\n",
    "# y_pred_poly\n",
    "\n",
    "# Evaluate model with RMSE (penalizes large errors)\n",
    "# rmse_ice\n",
    "\n",
    "# Evaluate model with R^2 (variance explained)\n",
    "# r2_ice = r2_score(y_test, y_pred_poly)\n",
    "\n",
    "# Print evaluation results\n",
    "print(\"\\nIce Cream Sales Model (Polynomial Regression):\")\n",
    "print(\"RMSE (typical error size, penalizing big mistakes):\", rmse_ice)\n",
    "print(\"R^2 (variance explained):\", r2_ice)"
   ]
  },
  {
   "cell_type": "code",
   "execution_count": 40,
   "id": "eb0f1418-5e93-4b58-9085-06515d59e854",
   "metadata": {
    "deletable": false,
    "editable": false,
    "nbgrader": {
     "cell_type": "code",
     "checksum": "946cd1b701709900a525ee70cd68c583",
     "grade": true,
     "grade_id": "cell-6a0d499abf5db3b9",
     "locked": true,
     "points": 0,
     "schema_version": 3,
     "solution": false,
     "task": false
    }
   },
   "outputs": [
    {
     "name": "stdout",
     "output_type": "stream",
     "text": [
      "\n",
      "Ice Cream Sales Model (Polynomial Regression):\n",
      "RMSE (typical error size, penalizing big mistakes): 2.8311937856817213\n",
      "R^2 (variance explained): 0.9568457914775634\n"
     ]
    }
   ],
   "source": [
    "# Load dataset into a pandas DataFrame\n",
    "icecream_df = pd.read_csv(\"Ice_cream selling data.csv\")\n",
    "\n",
    "# Define feature (temperature) and target (ice cream sales)\n",
    "X_ice = icecream_df[[\"Temperature (°C)\"]]\n",
    "y_ice = icecream_df[\"Ice Cream Sales (units)\"]\n",
    "\n",
    "# Split dataset into training (80%) and testing (20%)\n",
    "X_train, X_test, y_train, y_test = train_test_split(X_ice, y_ice, test_size=0.2, random_state=20)\n",
    "\n",
    "# Create a polynomial regression model pipeline (degree=2)\n",
    "poly_model = make_pipeline(PolynomialFeatures(degree=2), LinearRegression())\n",
    "\n",
    "# Train polynomial regression model on training data\n",
    "poly_model.fit(X_train, y_train)\n",
    "\n",
    "# Make predictions on test data\n",
    "y_pred_poly = poly_model.predict(X_test)\n",
    "\n",
    "# Evaluate model with RMSE (penalizes large errors)\n",
    "rmse_ice = np.sqrt(mean_squared_error(y_test, y_pred_poly))\n",
    "\n",
    "# Evaluate model with R^2 (variance explained)\n",
    "r2_ice = r2_score(y_test, y_pred_poly)\n",
    "\n",
    "# Print evaluation results\n",
    "print(\"\\nIce Cream Sales Model (Polynomial Regression):\")\n",
    "print(\"RMSE (typical error size, penalizing big mistakes):\", rmse_ice)\n",
    "print(\"R^2 (variance explained):\", r2_ice)"
   ]
  },
  {
   "cell_type": "code",
   "execution_count": 42,
   "id": "c758cb22-163f-4282-9bc7-ea5e35443790",
   "metadata": {},
   "outputs": [
    {
     "name": "stderr",
     "output_type": "stream",
     "text": [
      "c:\\Users\\Student\\AppData\\Local\\Programs\\Python\\Python312\\Lib\\site-packages\\sklearn\\utils\\validation.py:2749: UserWarning: X does not have valid feature names, but PolynomialFeatures was fitted with feature names\n",
      "  warnings.warn(\n"
     ]
    },
    {
     "data": {
      "image/png": "[encoded data removed]",
      "text/plain": [
       "<Figure size 640x480 with 1 Axes>"
      ]
     },
     "metadata": {},
     "output_type": "display_data"
    }
   ],
   "source": [
    "# ### Visualization\n",
    "# Let's visualize the polynomial regression curve along with the actual data points.\n",
    "plt.scatter(X_ice, y_ice, color=\"blue\", label=\"Data\")  # Scatter plot of actual data\n",
    "x_range = np.linspace(X_ice.min(), X_ice.max(), 200).reshape(-1,1)  # Generate smooth range of X values\n",
    "y_range = poly_model.predict(x_range)  # Predict sales for smooth range\n",
    "plt.plot(x_range, y_range, color=\"red\", linewidth=2, label=\"Polynomial Fit\")  # Plot polynomial curve\n",
    "plt.xlabel(\"Temperature (°C)\")\n",
    "plt.ylabel(\"Ice Cream Sales (units)\")\n",
    "plt.legend()\n",
    "plt.show()"
   ]
  },
  {
   "cell_type": "code",
   "execution_count": null,
   "id": "9399ef02-384f-4d57-a9fc-672f2b5b7f52",
   "metadata": {},
   "outputs": [],
   "source": []
  }
 ],
 "metadata": {
  "kernelspec": {
   "display_name": "Python 3 (ipykernel)",
   "language": "python",
   "name": "python3"
  },
  "language_info": {
   "codemirror_mode": {
    "name": "ipython",
    "version": 3
   },
   "file_extension": ".py",
   "mimetype": "text/x-python",
   "name": "python",
   "nbconvert_exporter": "python",
   "pygments_lexer": "ipython3",
   "version": "3.12.2"
  }
 },
 "nbformat": 4,
 "nbformat_minor": 5
}
